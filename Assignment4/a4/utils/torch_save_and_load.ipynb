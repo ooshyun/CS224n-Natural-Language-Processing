{
 "cells": [
  {
   "cell_type": "markdown",
   "source": [
    "Reference. https://pytorch.org/tutorials/beginner/saving_loading_models.html#save-load-state-dict-recommended"
   ],
   "metadata": {}
  },
  {
   "cell_type": "code",
   "execution_count": 1,
   "source": [
    "print(\"Hello World\")"
   ],
   "outputs": [
    {
     "output_type": "stream",
     "name": "stdout",
     "text": [
      "Hello World\n"
     ]
    }
   ],
   "metadata": {}
  },
  {
   "cell_type": "code",
   "execution_count": 5,
   "source": [
    "import os\n",
    "import torch\n",
    "import torch.nn as nn\n",
    "import torch.nn.functional as F\n",
    "import torch.optim as optim\n",
    "print(torch.version.__version__)"
   ],
   "outputs": [
    {
     "output_type": "stream",
     "name": "stdout",
     "text": [
      "1.9.0\n"
     ]
    }
   ],
   "metadata": {}
  },
  {
   "cell_type": "markdown",
   "source": [
    "### Let’s take a look at the state_dict from the simple model used in the Training a classifier tutorial."
   ],
   "metadata": {}
  },
  {
   "cell_type": "code",
   "execution_count": null,
   "source": [
    "# Define model\n",
    "class TheModelClass(nn.Module):\n",
    "    def __init__(self):\n",
    "        super(TheModelClass, self).__init__()\n",
    "        self.conv1 = nn.Conv2d(3, 6, 5)\n",
    "        self.pool = nn.MaxPool2d(2, 2)\n",
    "        self.conv2 = nn.Conv2d(6, 16, 5)\n",
    "        self.fc1 = nn.Linear(16 * 5 * 5, 120)\n",
    "        self.fc2 = nn.Linear(120, 84)\n",
    "        self.fc3 = nn.Linear(84, 10)\n",
    "\n",
    "    def forward(self, x):\n",
    "        x = self.pool(F.relu(self.conv1(x)))\n",
    "        x = self.pool(F.relu(self.conv2(x)))\n",
    "        x = x.view(-1, 16 * 5 * 5)\n",
    "        x = F.relu(self.fc1(x))\n",
    "        x = F.relu(self.fc2(x))\n",
    "        x = self.fc3(x)\n",
    "        return x\n",
    "\n",
    "# Initialize model\n",
    "model = TheModelClass()\n",
    "\n",
    "# Initialize optimizer\n",
    "optimizer = optim.SGD(model.parameters(), lr=0.001, momentum=0.9)\n",
    "\n",
    "# Print model's state_dict\n",
    "print(\"Model's state_dict:\")\n",
    "for param_tensor in model.state_dict():\n",
    "    print(param_tensor, \"\\t\", model.state_dict()[param_tensor].size())\n",
    "\n",
    "# Print optimizer's state_dict\n",
    "print(\"Optimizer's state_dict:\")\n",
    "for var_name in optimizer.state_dict():\n",
    "    print(var_name, \"\\t\", optimizer.state_dict()[var_name])\n"
   ],
   "outputs": [],
   "metadata": {}
  },
  {
   "cell_type": "markdown",
   "source": [
    "**Output:**"
   ],
   "metadata": {}
  },
  {
   "cell_type": "markdown",
   "source": [
    "Model's state_dict:\n",
    "conv1.weight \t torch.Size([6, 3, 5, 5])\n",
    "conv1.bias \t torch.Size([6])\n",
    "conv2.weight \t torch.Size([16, 6, 5, 5])\n",
    "conv2.bias \t torch.Size([16])\n",
    "fc1.weight \t torch.Size([120, 400])\n",
    "fc1.bias \t torch.Size([120])\n",
    "fc2.weight \t torch.Size([84, 120])\n",
    "fc2.bias \t torch.Size([84])\n",
    "fc3.weight \t torch.Size([10, 84])\n",
    "fc3.bias \t torch.Size([10])\n",
    "Optimizer's state_dict:\n",
    "state \t {}\n",
    "param_groups \t [{'lr': 0.001, 'momentum': 0.9, 'dampening': 0, 'weight_decay': 0, 'nesterov': False, 'params': [0, 1, 2, 3, 4, 5, 6, 7, 8, 9]}]"
   ],
   "metadata": {}
  },
  {
   "cell_type": "markdown",
   "source": [
    "## **Saving & Loading Model for Inference**\n",
    "### Save/Load state_dict (Recommended)"
   ],
   "metadata": {}
  },
  {
   "cell_type": "code",
   "execution_count": 9,
   "source": [
    "PATH=\"/Users/seunghyunoh/workplace/study/CS224n/LocalCode/Assignment4/a4/test_local/model.bin\"\n",
    "torch.save(model.state_dict(), PATH)"
   ],
   "outputs": [],
   "metadata": {}
  },
  {
   "cell_type": "code",
   "execution_count": null,
   "source": [
    "model = TheModelClass()\n",
    "model.load_state_dict(torch.load(PATH))\n",
    "model.eval()"
   ],
   "outputs": [],
   "metadata": {}
  },
  {
   "cell_type": "markdown",
   "source": [
    "**A common PyTorch convention is to save models using either a .pt or .pth file extension.**"
   ],
   "metadata": {}
  },
  {
   "cell_type": "markdown",
   "source": [
    "### **Save/Load Entire Model**"
   ],
   "metadata": {}
  },
  {
   "cell_type": "code",
   "execution_count": 11,
   "source": [
    "torch.save(model, PATH)"
   ],
   "outputs": [],
   "metadata": {}
  },
  {
   "cell_type": "code",
   "execution_count": 12,
   "source": [
    "# Model class must be defined somewhere\n",
    "model = torch.load(PATH)\n",
    "model.eval()"
   ],
   "outputs": [
    {
     "output_type": "execute_result",
     "data": {
      "text/plain": [
       "TheModelClass(\n",
       "  (conv1): Conv2d(3, 6, kernel_size=(5, 5), stride=(1, 1))\n",
       "  (pool): MaxPool2d(kernel_size=2, stride=2, padding=0, dilation=1, ceil_mode=False)\n",
       "  (conv2): Conv2d(6, 16, kernel_size=(5, 5), stride=(1, 1))\n",
       "  (fc1): Linear(in_features=400, out_features=120, bias=True)\n",
       "  (fc2): Linear(in_features=120, out_features=84, bias=True)\n",
       "  (fc3): Linear(in_features=84, out_features=10, bias=True)\n",
       ")"
      ]
     },
     "metadata": {},
     "execution_count": 12
    }
   ],
   "metadata": {}
  },
  {
   "cell_type": "markdown",
   "source": [
    "### **Saving & Loading a General Checkpoint for Inference and/or Resuming Training**"
   ],
   "metadata": {}
  },
  {
   "cell_type": "code",
   "execution_count": 13,
   "source": [
    "torch.save({\n",
    "            'epoch': 100,\n",
    "            'model_state_dict': model.state_dict(),\n",
    "            'optimizer_state_dict': optimizer.state_dict(),\n",
    "            'loss': 1e-10,\n",
    "            }, PATH)"
   ],
   "outputs": [],
   "metadata": {}
  },
  {
   "cell_type": "code",
   "execution_count": 15,
   "source": [
    "model = TheModelClass()\n",
    "optimizer = optim.SGD(model.parameters(), lr=0.001, momentum=0.9)\n",
    "\n",
    "checkpoint = torch.load(PATH)\n",
    "model.load_state_dict(checkpoint['model_state_dict'])\n",
    "optimizer.load_state_dict(checkpoint['optimizer_state_dict'])\n",
    "epoch = checkpoint['epoch']\n",
    "loss = checkpoint['loss']\n",
    "\n",
    "model.eval()"
   ],
   "outputs": [
    {
     "output_type": "execute_result",
     "data": {
      "text/plain": [
       "TheModelClass(\n",
       "  (conv1): Conv2d(3, 6, kernel_size=(5, 5), stride=(1, 1))\n",
       "  (pool): MaxPool2d(kernel_size=2, stride=2, padding=0, dilation=1, ceil_mode=False)\n",
       "  (conv2): Conv2d(6, 16, kernel_size=(5, 5), stride=(1, 1))\n",
       "  (fc1): Linear(in_features=400, out_features=120, bias=True)\n",
       "  (fc2): Linear(in_features=120, out_features=84, bias=True)\n",
       "  (fc3): Linear(in_features=84, out_features=10, bias=True)\n",
       ")"
      ]
     },
     "metadata": {},
     "execution_count": 15
    }
   ],
   "metadata": {}
  },
  {
   "cell_type": "markdown",
   "source": [
    "### **Saving Multiple Models in One File**"
   ],
   "metadata": {}
  },
  {
   "cell_type": "markdown",
   "source": [
    "Save:\n",
    "    torch.save({\n",
    "                'modelA_state_dict': modelA.state_dict(),\n",
    "                'modelB_state_dict': modelB.state_dict(),\n",
    "                'optimizerA_state_dict': optimizerA.state_dict(),\n",
    "                'optimizerB_state_dict': optimizerB.state_dict(),\n",
    "                ...\n",
    "                }, PATH)\n",
    "Load:\n",
    "    modelA = TheModelAClass(*args, **kwargs)\n",
    "    modelB = TheModelBClass(*args, **kwargs)\n",
    "    optimizerA = TheOptimizerAClass(*args, **kwargs)\n",
    "    optimizerB = TheOptimizerBClass(*args, **kwargs)\n",
    "\n",
    "    checkpoint = torch.load(PATH)\n",
    "    modelA.load_state_dict(checkpoint['modelA_state_dict'])\n",
    "    modelB.load_state_dict(checkpoint['modelB_state_dict'])\n",
    "    optimizerA.load_state_dict(checkpoint['optimizerA_state_dict'])\n",
    "    optimizerB.load_state_dict(checkpoint['optimizerB_state_dict'])\n",
    "\n",
    "    modelA.eval()\n",
    "    modelB.eval()\n",
    "# - or -\n",
    "    modelA.train()\n",
    "    modelB.train()"
   ],
   "metadata": {}
  },
  {
   "cell_type": "markdown",
   "source": [
    "### **Warmstarting Model Using Parameters from a Different Model**"
   ],
   "metadata": {}
  },
  {
   "cell_type": "markdown",
   "source": [
    "Save:\n",
    "    torch.save(modelA.state_dict(), PATH)\n",
    "Load:\n",
    "    modelB = TheModelBClass(*args, **kwargs)\n",
    "    modelB.load_state_dict(torch.load(PATH), strict=False)"
   ],
   "metadata": {}
  },
  {
   "cell_type": "markdown",
   "source": [
    "## **Saving & Loading Model Across Devices**"
   ],
   "metadata": {}
  },
  {
   "cell_type": "markdown",
   "source": [
    "### **Save on GPU, Load on CPU**"
   ],
   "metadata": {}
  },
  {
   "cell_type": "markdown",
   "source": [
    "Save:\n",
    "    torch.save(model.state_dict(), PATH)\n",
    "Load:\n",
    "    device = torch.device('cpu')\n",
    "    model = TheModelClass(*args, **kwargs)\n",
    "    model.load_state_dict(torch.load(PATH, map_location=device))"
   ],
   "metadata": {}
  },
  {
   "cell_type": "markdown",
   "source": [
    "### **Save on GPU, Load on GPU**"
   ],
   "metadata": {}
  },
  {
   "cell_type": "markdown",
   "source": [
    "Save:\n",
    "    torch.save(model.state_dict(), PATH)\n",
    "Load:\n",
    "    device = torch.device(\"cuda\")\n",
    "    model = TheModelClass(*args, **kwargs)\n",
    "    model.load_state_dict(torch.load(PATH))\n",
    "    model.to(device)\n",
    "# Make sure to call input = input.to(device) on any input tensors that you feed to the model"
   ],
   "metadata": {}
  },
  {
   "cell_type": "markdown",
   "source": [
    "### **Save on CPU, Load on GPU**"
   ],
   "metadata": {}
  },
  {
   "cell_type": "markdown",
   "source": [
    "Save:\n",
    "    torch.save(model.state_dict(), PATH)\n",
    "Load:\n",
    "    device = torch.device(\"cuda\")\n",
    "    model = TheModelClass(*args, **kwargs)\n",
    "    model.load_state_dict(torch.load(PATH, map_location=\"cuda:0\"))  # Choose whatever GPU device number you want\n",
    "    model.to(device)\n",
    "    # Make sure to call input = input.to(device) on any input tensors that you feed to the model"
   ],
   "metadata": {}
  },
  {
   "cell_type": "markdown",
   "source": [
    "### **Saving torch.nn.DataParallel Models**"
   ],
   "metadata": {}
  },
  {
   "cell_type": "markdown",
   "source": [
    "Save:\n",
    "    torch.save(model.module.state_dict(), PATH)\n",
    "Load:\n",
    "# Load to whatever device you want"
   ],
   "metadata": {}
  }
 ],
 "metadata": {
  "orig_nbformat": 4,
  "language_info": {
   "name": "python",
   "version": "3.7.11",
   "mimetype": "text/x-python",
   "codemirror_mode": {
    "name": "ipython",
    "version": 3
   },
   "pygments_lexer": "ipython3",
   "nbconvert_exporter": "python",
   "file_extension": ".py"
  },
  "kernelspec": {
   "name": "python3",
   "display_name": "Python 3.7.11 64-bit ('local_nmt': conda)"
  },
  "interpreter": {
   "hash": "cc386cf7e3ca3fe62a759077fee053aadb42b1fb38123253ff2d9c44f99ac04d"
  }
 },
 "nbformat": 4,
 "nbformat_minor": 2
}